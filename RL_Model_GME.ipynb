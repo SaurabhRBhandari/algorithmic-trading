{
 "cells": [
  {
   "attachments": {},
   "cell_type": "markdown",
   "metadata": {},
   "source": [
    "# 1. Import packages"
   ]
  },
  {
   "cell_type": "code",
   "execution_count": 529,
   "metadata": {},
   "outputs": [],
   "source": [
    "import gym\n",
    "import gym_anytrading\n",
    "# Stable baselines - rl stuff\n",
    "from stable_baselines.common.vec_env import DummyVecEnv\n",
    "from stable_baselines import A2C\n",
    "\n",
    "# Processing libraries\n",
    "import numpy as np\n",
    "import pandas as pd\n",
    "from matplotlib import pyplot as plt"
   ]
  },
  {
   "cell_type": "code",
   "execution_count": 530,
   "metadata": {},
   "outputs": [
    {
     "data": {
      "text/html": [
       "<div>\n",
       "<style scoped>\n",
       "    .dataframe tbody tr th:only-of-type {\n",
       "        vertical-align: middle;\n",
       "    }\n",
       "\n",
       "    .dataframe tbody tr th {\n",
       "        vertical-align: top;\n",
       "    }\n",
       "\n",
       "    .dataframe thead th {\n",
       "        text-align: right;\n",
       "    }\n",
       "</style>\n",
       "<table border=\"1\" class=\"dataframe\">\n",
       "  <thead>\n",
       "    <tr style=\"text-align: right;\">\n",
       "      <th></th>\n",
       "      <th>Open</th>\n",
       "      <th>High</th>\n",
       "      <th>Low</th>\n",
       "      <th>Close</th>\n",
       "      <th>Volume</th>\n",
       "    </tr>\n",
       "    <tr>\n",
       "      <th>Date</th>\n",
       "      <th></th>\n",
       "      <th></th>\n",
       "      <th></th>\n",
       "      <th></th>\n",
       "      <th></th>\n",
       "    </tr>\n",
       "  </thead>\n",
       "  <tbody>\n",
       "    <tr>\n",
       "      <th>2020-03-16</th>\n",
       "      <td>3.93</td>\n",
       "      <td>4.57</td>\n",
       "      <td>3.90</td>\n",
       "      <td>4.37</td>\n",
       "      <td>4866696.0</td>\n",
       "    </tr>\n",
       "    <tr>\n",
       "      <th>2020-03-17</th>\n",
       "      <td>4.40</td>\n",
       "      <td>4.65</td>\n",
       "      <td>4.11</td>\n",
       "      <td>4.23</td>\n",
       "      <td>3562210.0</td>\n",
       "    </tr>\n",
       "    <tr>\n",
       "      <th>2020-03-18</th>\n",
       "      <td>4.10</td>\n",
       "      <td>4.25</td>\n",
       "      <td>3.50</td>\n",
       "      <td>3.77</td>\n",
       "      <td>3651709.0</td>\n",
       "    </tr>\n",
       "    <tr>\n",
       "      <th>2020-03-19</th>\n",
       "      <td>3.71</td>\n",
       "      <td>4.20</td>\n",
       "      <td>3.55</td>\n",
       "      <td>4.19</td>\n",
       "      <td>5039539.0</td>\n",
       "    </tr>\n",
       "    <tr>\n",
       "      <th>2020-03-20</th>\n",
       "      <td>4.08</td>\n",
       "      <td>4.08</td>\n",
       "      <td>3.65</td>\n",
       "      <td>3.76</td>\n",
       "      <td>7722194.0</td>\n",
       "    </tr>\n",
       "  </tbody>\n",
       "</table>\n",
       "</div>"
      ],
      "text/plain": [
       "            Open  High   Low  Close     Volume\n",
       "Date                                          \n",
       "2020-03-16  3.93  4.57  3.90   4.37  4866696.0\n",
       "2020-03-17  4.40  4.65  4.11   4.23  3562210.0\n",
       "2020-03-18  4.10  4.25  3.50   3.77  3651709.0\n",
       "2020-03-19  3.71  4.20  3.55   4.19  5039539.0\n",
       "2020-03-20  4.08  4.08  3.65   3.76  7722194.0"
      ]
     },
     "execution_count": 530,
     "metadata": {},
     "output_type": "execute_result"
    }
   ],
   "source": [
    "df = pd.read_csv('gmedata.csv')\n",
    "df['Date'] = pd.to_datetime(df['Date'])\n",
    "df.sort_values('Date', ascending=True, inplace=True)\n",
    "df.set_index('Date', inplace=True)\n",
    "df['Volume'] = df['Volume'].apply(lambda x: float(x.replace(\",\", \"\")))\n",
    "df.head()"
   ]
  },
  {
   "attachments": {},
   "cell_type": "markdown",
   "metadata": {},
   "source": [
    "# 2.1 Add Custom Indicators"
   ]
  },
  {
   "attachments": {},
   "cell_type": "markdown",
   "metadata": {},
   "source": [
    "## 2.1.1. Install and Import New Dependencies"
   ]
  },
  {
   "cell_type": "code",
   "execution_count": 531,
   "metadata": {},
   "outputs": [],
   "source": [
    "from gym_anytrading.envs import StocksEnv\n",
    "from finta import TA"
   ]
  },
  {
   "attachments": {},
   "cell_type": "markdown",
   "metadata": {},
   "source": [
    "## 2.1.2. Calculate SMA, RSI and OBV"
   ]
  },
  {
   "cell_type": "code",
   "execution_count": 532,
   "metadata": {},
   "outputs": [],
   "source": [
    "df['SMA'] = TA.SMA(df, 12)\n",
    "df['RSI'] = TA.RSI(df)\n",
    "df['OBV'] = TA.OBV(df)\n",
    "df.fillna(0, inplace=True)"
   ]
  },
  {
   "cell_type": "code",
   "execution_count": 533,
   "metadata": {},
   "outputs": [
    {
     "data": {
      "text/html": [
       "<div>\n",
       "<style scoped>\n",
       "    .dataframe tbody tr th:only-of-type {\n",
       "        vertical-align: middle;\n",
       "    }\n",
       "\n",
       "    .dataframe tbody tr th {\n",
       "        vertical-align: top;\n",
       "    }\n",
       "\n",
       "    .dataframe thead th {\n",
       "        text-align: right;\n",
       "    }\n",
       "</style>\n",
       "<table border=\"1\" class=\"dataframe\">\n",
       "  <thead>\n",
       "    <tr style=\"text-align: right;\">\n",
       "      <th></th>\n",
       "      <th>Open</th>\n",
       "      <th>High</th>\n",
       "      <th>Low</th>\n",
       "      <th>Close</th>\n",
       "      <th>Volume</th>\n",
       "      <th>SMA</th>\n",
       "      <th>RSI</th>\n",
       "      <th>OBV</th>\n",
       "    </tr>\n",
       "    <tr>\n",
       "      <th>Date</th>\n",
       "      <th></th>\n",
       "      <th></th>\n",
       "      <th></th>\n",
       "      <th></th>\n",
       "      <th></th>\n",
       "      <th></th>\n",
       "      <th></th>\n",
       "      <th></th>\n",
       "    </tr>\n",
       "  </thead>\n",
       "  <tbody>\n",
       "    <tr>\n",
       "      <th>2020-03-16</th>\n",
       "      <td>3.93</td>\n",
       "      <td>4.57</td>\n",
       "      <td>3.90</td>\n",
       "      <td>4.37</td>\n",
       "      <td>4866696.0</td>\n",
       "      <td>0.000000</td>\n",
       "      <td>0.000000</td>\n",
       "      <td>0.0</td>\n",
       "    </tr>\n",
       "    <tr>\n",
       "      <th>2020-03-17</th>\n",
       "      <td>4.40</td>\n",
       "      <td>4.65</td>\n",
       "      <td>4.11</td>\n",
       "      <td>4.23</td>\n",
       "      <td>3562210.0</td>\n",
       "      <td>0.000000</td>\n",
       "      <td>0.000000</td>\n",
       "      <td>-3562210.0</td>\n",
       "    </tr>\n",
       "    <tr>\n",
       "      <th>2020-03-18</th>\n",
       "      <td>4.10</td>\n",
       "      <td>4.25</td>\n",
       "      <td>3.50</td>\n",
       "      <td>3.77</td>\n",
       "      <td>3651709.0</td>\n",
       "      <td>0.000000</td>\n",
       "      <td>0.000000</td>\n",
       "      <td>-7213919.0</td>\n",
       "    </tr>\n",
       "    <tr>\n",
       "      <th>2020-03-19</th>\n",
       "      <td>3.71</td>\n",
       "      <td>4.20</td>\n",
       "      <td>3.55</td>\n",
       "      <td>4.19</td>\n",
       "      <td>5039539.0</td>\n",
       "      <td>0.000000</td>\n",
       "      <td>43.394834</td>\n",
       "      <td>-2174380.0</td>\n",
       "    </tr>\n",
       "    <tr>\n",
       "      <th>2020-03-20</th>\n",
       "      <td>4.08</td>\n",
       "      <td>4.08</td>\n",
       "      <td>3.65</td>\n",
       "      <td>3.76</td>\n",
       "      <td>7722194.0</td>\n",
       "      <td>0.000000</td>\n",
       "      <td>29.351457</td>\n",
       "      <td>-9896574.0</td>\n",
       "    </tr>\n",
       "    <tr>\n",
       "      <th>2020-03-23</th>\n",
       "      <td>3.58</td>\n",
       "      <td>3.86</td>\n",
       "      <td>3.50</td>\n",
       "      <td>3.81</td>\n",
       "      <td>6009784.0</td>\n",
       "      <td>0.000000</td>\n",
       "      <td>32.102964</td>\n",
       "      <td>-3886790.0</td>\n",
       "    </tr>\n",
       "    <tr>\n",
       "      <th>2020-03-24</th>\n",
       "      <td>3.95</td>\n",
       "      <td>4.21</td>\n",
       "      <td>3.89</td>\n",
       "      <td>4.16</td>\n",
       "      <td>6805659.0</td>\n",
       "      <td>0.000000</td>\n",
       "      <td>47.512950</td>\n",
       "      <td>2918869.0</td>\n",
       "    </tr>\n",
       "    <tr>\n",
       "      <th>2020-03-25</th>\n",
       "      <td>4.15</td>\n",
       "      <td>4.49</td>\n",
       "      <td>4.04</td>\n",
       "      <td>4.17</td>\n",
       "      <td>3592059.0</td>\n",
       "      <td>0.000000</td>\n",
       "      <td>47.876947</td>\n",
       "      <td>6510928.0</td>\n",
       "    </tr>\n",
       "    <tr>\n",
       "      <th>2020-03-26</th>\n",
       "      <td>4.24</td>\n",
       "      <td>4.71</td>\n",
       "      <td>4.24</td>\n",
       "      <td>4.41</td>\n",
       "      <td>6210979.0</td>\n",
       "      <td>0.000000</td>\n",
       "      <td>55.799557</td>\n",
       "      <td>12721907.0</td>\n",
       "    </tr>\n",
       "    <tr>\n",
       "      <th>2020-03-27</th>\n",
       "      <td>4.94</td>\n",
       "      <td>5.09</td>\n",
       "      <td>4.15</td>\n",
       "      <td>4.22</td>\n",
       "      <td>7024763.0</td>\n",
       "      <td>0.000000</td>\n",
       "      <td>49.398141</td>\n",
       "      <td>5697144.0</td>\n",
       "    </tr>\n",
       "    <tr>\n",
       "      <th>2020-03-30</th>\n",
       "      <td>4.22</td>\n",
       "      <td>4.27</td>\n",
       "      <td>3.65</td>\n",
       "      <td>3.65</td>\n",
       "      <td>3350571.0</td>\n",
       "      <td>0.000000</td>\n",
       "      <td>36.040223</td>\n",
       "      <td>2346573.0</td>\n",
       "    </tr>\n",
       "    <tr>\n",
       "      <th>2020-03-31</th>\n",
       "      <td>3.63</td>\n",
       "      <td>3.80</td>\n",
       "      <td>3.50</td>\n",
       "      <td>3.50</td>\n",
       "      <td>2304132.0</td>\n",
       "      <td>4.020000</td>\n",
       "      <td>33.474865</td>\n",
       "      <td>42441.0</td>\n",
       "    </tr>\n",
       "    <tr>\n",
       "      <th>2020-04-01</th>\n",
       "      <td>3.45</td>\n",
       "      <td>3.49</td>\n",
       "      <td>3.12</td>\n",
       "      <td>3.25</td>\n",
       "      <td>4568695.0</td>\n",
       "      <td>3.926667</td>\n",
       "      <td>29.682621</td>\n",
       "      <td>-4526254.0</td>\n",
       "    </tr>\n",
       "    <tr>\n",
       "      <th>2020-04-02</th>\n",
       "      <td>3.26</td>\n",
       "      <td>3.35</td>\n",
       "      <td>2.85</td>\n",
       "      <td>2.85</td>\n",
       "      <td>4064339.0</td>\n",
       "      <td>3.811667</td>\n",
       "      <td>24.834835</td>\n",
       "      <td>-8590593.0</td>\n",
       "    </tr>\n",
       "    <tr>\n",
       "      <th>2020-04-03</th>\n",
       "      <td>2.85</td>\n",
       "      <td>2.94</td>\n",
       "      <td>2.57</td>\n",
       "      <td>2.80</td>\n",
       "      <td>3830761.0</td>\n",
       "      <td>3.730833</td>\n",
       "      <td>24.300576</td>\n",
       "      <td>-12421354.0</td>\n",
       "    </tr>\n",
       "  </tbody>\n",
       "</table>\n",
       "</div>"
      ],
      "text/plain": [
       "            Open  High   Low  Close     Volume       SMA        RSI  \\\n",
       "Date                                                                  \n",
       "2020-03-16  3.93  4.57  3.90   4.37  4866696.0  0.000000   0.000000   \n",
       "2020-03-17  4.40  4.65  4.11   4.23  3562210.0  0.000000   0.000000   \n",
       "2020-03-18  4.10  4.25  3.50   3.77  3651709.0  0.000000   0.000000   \n",
       "2020-03-19  3.71  4.20  3.55   4.19  5039539.0  0.000000  43.394834   \n",
       "2020-03-20  4.08  4.08  3.65   3.76  7722194.0  0.000000  29.351457   \n",
       "2020-03-23  3.58  3.86  3.50   3.81  6009784.0  0.000000  32.102964   \n",
       "2020-03-24  3.95  4.21  3.89   4.16  6805659.0  0.000000  47.512950   \n",
       "2020-03-25  4.15  4.49  4.04   4.17  3592059.0  0.000000  47.876947   \n",
       "2020-03-26  4.24  4.71  4.24   4.41  6210979.0  0.000000  55.799557   \n",
       "2020-03-27  4.94  5.09  4.15   4.22  7024763.0  0.000000  49.398141   \n",
       "2020-03-30  4.22  4.27  3.65   3.65  3350571.0  0.000000  36.040223   \n",
       "2020-03-31  3.63  3.80  3.50   3.50  2304132.0  4.020000  33.474865   \n",
       "2020-04-01  3.45  3.49  3.12   3.25  4568695.0  3.926667  29.682621   \n",
       "2020-04-02  3.26  3.35  2.85   2.85  4064339.0  3.811667  24.834835   \n",
       "2020-04-03  2.85  2.94  2.57   2.80  3830761.0  3.730833  24.300576   \n",
       "\n",
       "                   OBV  \n",
       "Date                    \n",
       "2020-03-16         0.0  \n",
       "2020-03-17  -3562210.0  \n",
       "2020-03-18  -7213919.0  \n",
       "2020-03-19  -2174380.0  \n",
       "2020-03-20  -9896574.0  \n",
       "2020-03-23  -3886790.0  \n",
       "2020-03-24   2918869.0  \n",
       "2020-03-25   6510928.0  \n",
       "2020-03-26  12721907.0  \n",
       "2020-03-27   5697144.0  \n",
       "2020-03-30   2346573.0  \n",
       "2020-03-31     42441.0  \n",
       "2020-04-01  -4526254.0  \n",
       "2020-04-02  -8590593.0  \n",
       "2020-04-03 -12421354.0  "
      ]
     },
     "execution_count": 533,
     "metadata": {},
     "output_type": "execute_result"
    }
   ],
   "source": [
    "df.head(15)"
   ]
  },
  {
   "attachments": {},
   "cell_type": "markdown",
   "metadata": {},
   "source": [
    "## 2.1.3. Create New Environments"
   ]
  },
  {
   "cell_type": "code",
   "execution_count": 534,
   "metadata": {},
   "outputs": [],
   "source": [
    "def add_signals(env):\n",
    "    start = env.frame_bound[0] - env.window_size\n",
    "    end = env.frame_bound[1]\n",
    "    prices = env.df.loc[:, 'Low'].to_numpy()[start:end]\n",
    "    signal_features = env.df.loc[:, ['Low', 'Volume','SMA', 'RSI', 'OBV']].to_numpy()[start:end]\n",
    "    return prices, signal_features"
   ]
  },
  {
   "cell_type": "code",
   "execution_count": 535,
   "metadata": {},
   "outputs": [],
   "source": [
    "class MyCustomEnv(StocksEnv):\n",
    "    _process_data = add_signals\n",
    "    \n",
    "env2 = MyCustomEnv(df=df, window_size=12, frame_bound=(12,50))"
   ]
  },
  {
   "cell_type": "code",
   "execution_count": 536,
   "metadata": {
    "scrolled": true
   },
   "outputs": [
    {
     "data": {
      "text/plain": [
       "array([[ 3.90000000e+00,  4.86669600e+06,  0.00000000e+00,\n",
       "         0.00000000e+00,  0.00000000e+00],\n",
       "       [ 4.11000000e+00,  3.56221000e+06,  0.00000000e+00,\n",
       "         0.00000000e+00, -3.56221000e+06],\n",
       "       [ 3.50000000e+00,  3.65170900e+06,  0.00000000e+00,\n",
       "         0.00000000e+00, -7.21391900e+06],\n",
       "       [ 3.55000000e+00,  5.03953900e+06,  0.00000000e+00,\n",
       "         4.33948339e+01, -2.17438000e+06],\n",
       "       [ 3.65000000e+00,  7.72219400e+06,  0.00000000e+00,\n",
       "         2.93514572e+01, -9.89657400e+06],\n",
       "       [ 3.50000000e+00,  6.00978400e+06,  0.00000000e+00,\n",
       "         3.21029638e+01, -3.88679000e+06],\n",
       "       [ 3.89000000e+00,  6.80565900e+06,  0.00000000e+00,\n",
       "         4.75129499e+01,  2.91886900e+06],\n",
       "       [ 4.04000000e+00,  3.59205900e+06,  0.00000000e+00,\n",
       "         4.78769470e+01,  6.51092800e+06],\n",
       "       [ 4.24000000e+00,  6.21097900e+06,  0.00000000e+00,\n",
       "         5.57995572e+01,  1.27219070e+07],\n",
       "       [ 4.15000000e+00,  7.02476300e+06,  0.00000000e+00,\n",
       "         4.93981406e+01,  5.69714400e+06],\n",
       "       [ 3.65000000e+00,  3.35057100e+06,  0.00000000e+00,\n",
       "         3.60402233e+01,  2.34657300e+06],\n",
       "       [ 3.50000000e+00,  2.30413200e+06,  4.02000000e+00,\n",
       "         3.34748648e+01,  4.24410000e+04],\n",
       "       [ 3.12000000e+00,  4.56869500e+06,  3.92666667e+00,\n",
       "         2.96826208e+01, -4.52625400e+06],\n",
       "       [ 2.85000000e+00,  4.06433900e+06,  3.81166667e+00,\n",
       "         2.48348354e+01, -8.59059300e+06],\n",
       "       [ 2.57000000e+00,  3.83076100e+06,  3.73083333e+00,\n",
       "         2.43005757e+01, -1.24213540e+07],\n",
       "       [ 2.83000000e+00,  3.33107000e+06,  3.63916667e+00,\n",
       "         3.32674579e+01, -9.09028400e+06],\n",
       "       [ 3.10000000e+00,  2.83685900e+06,  3.59833333e+00,\n",
       "         3.81635819e+01, -6.25342500e+06],\n",
       "       [ 3.20000000e+00,  2.88452800e+06,  3.56500000e+00,\n",
       "         4.17437038e+01, -3.36889700e+06],\n",
       "       [ 3.49000000e+00,  5.90891600e+06,  3.54250000e+00,\n",
       "         5.20039324e+01,  2.54001900e+06],\n",
       "       [ 4.16000000e+00,  6.84450100e+06,  3.59000000e+00,\n",
       "         6.40714144e+01,  9.38452000e+06],\n",
       "       [ 5.14000000e+00,  1.35066300e+07,  3.71833333e+00,\n",
       "         7.40671104e+01,  2.28911500e+07],\n",
       "       [ 4.90000000e+00,  7.49985400e+06,  3.80583333e+00,\n",
       "         6.33931944e+01,  1.53912960e+07],\n",
       "       [ 4.88000000e+00,  3.37192100e+06,  3.92083333e+00,\n",
       "         6.01011321e+01,  1.20193750e+07],\n",
       "       [ 4.43000000e+00,  5.65318800e+06,  4.03583333e+00,\n",
       "         5.80713382e+01,  6.36618700e+06],\n",
       "       [ 4.78000000e+00,  6.08501100e+06,  4.23250000e+00,\n",
       "         6.43768198e+01,  1.24511980e+07],\n",
       "       [ 4.76000000e+00,  4.14205000e+06,  4.39333333e+00,\n",
       "         5.43659043e+01,  8.30914800e+06],\n",
       "       [ 4.83000000e+00,  2.67813300e+06,  4.56750000e+00,\n",
       "         5.53567351e+01,  1.09872810e+07],\n",
       "       [ 4.58000000e+00,  2.26585300e+06,  4.70166667e+00,\n",
       "         5.32077636e+01,  8.72142800e+06],\n",
       "       [ 4.66000000e+00,  2.23654400e+06,  4.82666667e+00,\n",
       "         5.39175455e+01,  1.09579720e+07],\n",
       "       [ 4.81000000e+00,  7.27513800e+06,  5.02750000e+00,\n",
       "         6.29870029e+01,  1.82331100e+07],\n",
       "       [ 5.06000000e+00,  5.20018900e+06,  5.17333333e+00,\n",
       "         6.07786688e+01,  1.30329210e+07],\n",
       "       [ 5.45000000e+00,  3.37004500e+06,  5.28166667e+00,\n",
       "         6.38147771e+01,  1.64029660e+07],\n",
       "       [ 5.64000000e+00,  2.17353000e+06,  5.26333333e+00,\n",
       "         5.99420834e+01,  1.42294360e+07],\n",
       "       [ 5.45000000e+00,  4.00559800e+06,  5.32833333e+00,\n",
       "         6.24737146e+01,  1.82350340e+07],\n",
       "       [ 5.40000000e+00,  4.06810500e+06,  5.36583333e+00,\n",
       "         5.57187511e+01,  1.41669290e+07],\n",
       "       [ 5.35000000e+00,  2.10591900e+06,  5.40833333e+00,\n",
       "         5.47128225e+01,  1.20610100e+07],\n",
       "       [ 4.90000000e+00,  3.36964000e+06,  5.35166667e+00,\n",
       "         4.97673242e+01,  8.69137000e+06],\n",
       "       [ 4.65000000e+00,  2.50119500e+06,  5.35916667e+00,\n",
       "         4.91433540e+01,  6.19017500e+06],\n",
       "       [ 4.82000000e+00,  2.35366100e+06,  5.36666667e+00,\n",
       "         5.03718500e+01,  8.54383600e+06],\n",
       "       [ 4.75000000e+00,  1.69915800e+06,  5.37166667e+00,\n",
       "         4.78806928e+01,  6.84467800e+06],\n",
       "       [ 4.46000000e+00,  2.63915700e+06,  5.35250000e+00,\n",
       "         4.54595360e+01,  4.20552100e+06],\n",
       "       [ 4.07000000e+00,  2.88287700e+06,  5.21833333e+00,\n",
       "         4.20266220e+01,  1.32264400e+06],\n",
       "       [ 3.96000000e+00,  2.00486800e+06,  5.09250000e+00,\n",
       "         4.12140829e+01, -6.82224000e+05],\n",
       "       [ 4.04000000e+00,  1.94070400e+06,  4.94083333e+00,\n",
       "         4.25595553e+01,  1.25848000e+06],\n",
       "       [ 4.36000000e+00,  2.37169400e+06,  4.84500000e+00,\n",
       "         4.77145371e+01,  3.63017400e+06],\n",
       "       [ 4.37000000e+00,  1.84073200e+06,  4.71083333e+00,\n",
       "         4.59861286e+01,  1.78944200e+06],\n",
       "       [ 4.34000000e+00,  2.54360900e+06,  4.62333333e+00,\n",
       "         4.58583463e+01, -7.54167000e+05],\n",
       "       [ 4.40000000e+00,  1.97190600e+06,  4.54416667e+00,\n",
       "         4.60198797e+01,  1.21773900e+06],\n",
       "       [ 4.13000000e+00,  2.37985100e+06,  4.48166667e+00,\n",
       "         4.24718284e+01, -1.16211200e+06],\n",
       "       [ 4.33000000e+00,  3.54592600e+06,  4.44416667e+00,\n",
       "         4.65670389e+01,  2.38381400e+06]])"
      ]
     },
     "execution_count": 536,
     "metadata": {},
     "output_type": "execute_result"
    }
   ],
   "source": [
    "env2.signal_features"
   ]
  },
  {
   "cell_type": "code",
   "execution_count": 537,
   "metadata": {},
   "outputs": [
    {
     "name": "stdout",
     "output_type": "stream",
     "text": [
      "(251, 8)\n"
     ]
    }
   ],
   "source": [
    "df.head()\n",
    "print(df.shape)"
   ]
  },
  {
   "attachments": {},
   "cell_type": "markdown",
   "metadata": {},
   "source": [
    "# 3. Build Environment and Train"
   ]
  },
  {
   "cell_type": "code",
   "execution_count": 538,
   "metadata": {},
   "outputs": [],
   "source": [
    "env_maker = lambda: env2\n",
    "env = DummyVecEnv([env_maker])"
   ]
  },
  {
   "cell_type": "code",
   "execution_count": 539,
   "metadata": {
    "scrolled": true
   },
   "outputs": [],
   "source": [
    "model = A2C('MlpLstmPolicy', env, verbose=1,tensorboard_log='./a2c_stocks')"
   ]
  },
  {
   "cell_type": "code",
   "execution_count": 540,
   "metadata": {},
   "outputs": [],
   "source": [
    "# model.learn(total_timesteps=1000000)\n",
    "# # save the model to a file\n",
    "# model.save(\"a2c_stocks_RL_model\")"
   ]
  },
  {
   "cell_type": "code",
   "execution_count": 541,
   "metadata": {},
   "outputs": [
    {
     "name": "stdout",
     "output_type": "stream",
     "text": [
      "Loading a model without an environment, this model cannot be trained until it has a valid environment.\n"
     ]
    }
   ],
   "source": [
    "\n",
    "\n",
    "# load the model from a file\n",
    "model = A2C.load(\"a2c_stocks_RL_model\")"
   ]
  },
  {
   "attachments": {},
   "cell_type": "markdown",
   "metadata": {},
   "source": [
    "# 4. Evaluation"
   ]
  },
  {
   "cell_type": "code",
   "execution_count": 542,
   "metadata": {},
   "outputs": [],
   "source": [
    "start = 200\n",
    "end = 250"
   ]
  },
  {
   "attachments": {},
   "cell_type": "markdown",
   "metadata": {},
   "source": [
    "### 4.1 RL Model"
   ]
  },
  {
   "cell_type": "code",
   "execution_count": 543,
   "metadata": {},
   "outputs": [
    {
     "name": "stdout",
     "output_type": "stream",
     "text": [
      "info {'total_reward': 220.29000000000002, 'total_profit': 59.21724460355676, 'position': 1}\n",
      "info {'total_reward': 220.29000000000002, 'total_profit': 59.21724460355676, 'position': 1}\n",
      "info {'total_reward': 358.04, 'total_profit': 129.91524899049796, 'position': 1}\n",
      "info {'total_reward': 213.36, 'total_profit': 48.20053979621085, 'position': 1}\n",
      "info {'total_reward': 213.36, 'total_profit': 48.20053979621085, 'position': 1}\n",
      "info {'total_reward': 220.29000000000002, 'total_profit': 59.21724460355676, 'position': 1}\n",
      "info {'total_reward': 227.11, 'total_profit': 55.287625658508645, 'position': 1}\n",
      "info {'total_reward': 220.29000000000002, 'total_profit': 59.21724460355676, 'position': 1}\n",
      "info {'total_reward': 208.04000000000002, 'total_profit': 41.51129120679414, 'position': 1}\n",
      "info {'total_reward': 214.97000000000003, 'total_profit': 50.99910282323116, 'position': 1}\n",
      "info {'total_reward': 213.36, 'total_profit': 48.20053979621085, 'position': 1}\n",
      "info {'total_reward': 208.04000000000002, 'total_profit': 41.51129120679414, 'position': 1}\n",
      "info {'total_reward': 213.36, 'total_profit': 48.20053979621085, 'position': 1}\n",
      "info {'total_reward': 220.29000000000002, 'total_profit': 59.21724460355676, 'position': 1}\n",
      "info {'total_reward': 232.43, 'total_profit': 64.19683231522302, 'position': 1}\n",
      "info {'total_reward': 232.43, 'total_profit': 64.19683231522302, 'position': 1}\n",
      "info {'total_reward': 213.36, 'total_profit': 48.20053979621085, 'position': 1}\n",
      "info {'total_reward': 227.11, 'total_profit': 55.287625658508645, 'position': 1}\n",
      "info {'total_reward': 220.29000000000002, 'total_profit': 59.21724460355676, 'position': 1}\n",
      "info {'total_reward': 234.04000000000002, 'total_profit': 67.9241532566231, 'position': 1}\n",
      "info {'total_reward': 175.36, 'total_profit': 40.26299058386636, 'position': 1}\n",
      "info {'total_reward': 220.29000000000002, 'total_profit': 59.21724460355676, 'position': 1}\n",
      "info {'total_reward': 220.29000000000002, 'total_profit': 59.21724460355676, 'position': 1}\n",
      "info {'total_reward': 213.36, 'total_profit': 48.20053979621085, 'position': 1}\n",
      "info {'total_reward': 208.04000000000002, 'total_profit': 41.51129120679414, 'position': 1}\n",
      "info {'total_reward': 213.36, 'total_profit': 48.20053979621085, 'position': 1}\n",
      "info {'total_reward': 220.29000000000002, 'total_profit': 59.21724460355676, 'position': 1}\n",
      "info {'total_reward': 213.36, 'total_profit': 48.20053979621085, 'position': 1}\n",
      "info {'total_reward': 232.43, 'total_profit': 64.19683231522302, 'position': 1}\n",
      "info {'total_reward': 220.29000000000002, 'total_profit': 59.21724460355676, 'position': 1}\n",
      "info {'total_reward': 213.36, 'total_profit': 48.20053979621085, 'position': 1}\n",
      "info {'total_reward': 232.43, 'total_profit': 64.19683231522302, 'position': 1}\n",
      "info {'total_reward': 232.43, 'total_profit': 64.19683231522302, 'position': 1}\n",
      "info {'total_reward': 220.29000000000002, 'total_profit': 59.21724460355676, 'position': 1}\n",
      "info {'total_reward': 213.36, 'total_profit': 48.20053979621085, 'position': 1}\n",
      "info {'total_reward': 213.36, 'total_profit': 48.20053979621085, 'position': 1}\n",
      "info {'total_reward': 213.36, 'total_profit': 48.20053979621085, 'position': 1}\n",
      "info {'total_reward': 220.29000000000002, 'total_profit': 59.21724460355676, 'position': 1}\n",
      "info {'total_reward': 214.03000000000003, 'total_profit': 50.45779396040303, 'position': 1}\n",
      "info {'total_reward': 220.29000000000002, 'total_profit': 59.21724460355676, 'position': 1}\n",
      "info {'total_reward': 213.36, 'total_profit': 48.20053979621085, 'position': 1}\n",
      "info {'total_reward': 214.97000000000003, 'total_profit': 50.99910282323116, 'position': 1}\n",
      "info {'total_reward': 71.28999999999999, 'total_profit': 18.713423445633104, 'position': 1}\n",
      "info {'total_reward': 175.36, 'total_profit': 40.26299058386636, 'position': 1}\n",
      "info {'total_reward': 175.36, 'total_profit': 40.26299058386636, 'position': 1}\n",
      "info {'total_reward': 213.36, 'total_profit': 48.20053979621085, 'position': 1}\n",
      "info {'total_reward': 213.36, 'total_profit': 48.20053979621085, 'position': 1}\n",
      "info {'total_reward': 213.36, 'total_profit': 48.20053979621085, 'position': 1}\n",
      "info {'total_reward': 213.36, 'total_profit': 48.20053979621085, 'position': 1}\n",
      "info {'total_reward': 239.36, 'total_profit': 78.86964623335872, 'position': 1}\n",
      "info {'total_reward': 213.36, 'total_profit': 48.20053979621085, 'position': 1}\n",
      "info {'total_reward': 208.04000000000002, 'total_profit': 41.51129120679414, 'position': 1}\n",
      "info {'total_reward': 227.11, 'total_profit': 55.287625658508645, 'position': 1}\n",
      "info {'total_reward': 213.36, 'total_profit': 48.20053979621085, 'position': 1}\n",
      "info {'total_reward': 208.04000000000002, 'total_profit': 41.51129120679414, 'position': 1}\n",
      "info {'total_reward': 213.36, 'total_profit': 48.20053979621085, 'position': 1}\n",
      "info {'total_reward': 213.36, 'total_profit': 48.20053979621085, 'position': 1}\n",
      "info {'total_reward': 232.43, 'total_profit': 64.19683231522302, 'position': 1}\n",
      "info {'total_reward': 213.36, 'total_profit': 48.20053979621085, 'position': 1}\n",
      "info {'total_reward': 224.39000000000001, 'total_profit': 54.536041931601346, 'position': 1}\n",
      "info {'total_reward': 232.43, 'total_profit': 64.19683231522302, 'position': 1}\n",
      "info {'total_reward': 213.36, 'total_profit': 48.20053979621085, 'position': 1}\n",
      "info {'total_reward': 208.04000000000002, 'total_profit': 41.51129120679414, 'position': 1}\n",
      "info {'total_reward': 201.48000000000002, 'total_profit': 40.99580879474106, 'position': 1}\n",
      "info {'total_reward': 234.04000000000002, 'total_profit': 67.9241532566231, 'position': 1}\n",
      "info {'total_reward': 212.78000000000003, 'total_profit': 48.15749452822323, 'position': 1}\n",
      "info {'total_reward': 351.11, 'total_profit': 105.74597266427061, 'position': 1}\n",
      "info {'total_reward': 208.04000000000002, 'total_profit': 41.51129120679414, 'position': 1}\n",
      "info {'total_reward': 213.36, 'total_profit': 48.20053979621085, 'position': 1}\n",
      "info {'total_reward': 213.36, 'total_profit': 48.20053979621085, 'position': 1}\n",
      "info {'total_reward': 227.11, 'total_profit': 55.287625658508645, 'position': 1}\n",
      "info {'total_reward': 213.36, 'total_profit': 48.20053979621085, 'position': 1}\n",
      "info {'total_reward': 214.97000000000003, 'total_profit': 50.99910282323116, 'position': 1}\n",
      "info {'total_reward': 213.36, 'total_profit': 48.20053979621085, 'position': 1}\n",
      "info {'total_reward': 213.36, 'total_profit': 48.20053979621085, 'position': 1}\n",
      "info {'total_reward': 213.36, 'total_profit': 48.20053979621085, 'position': 1}\n",
      "info {'total_reward': 213.28000000000003, 'total_profit': 47.97674158473686, 'position': 1}\n",
      "info {'total_reward': 213.36, 'total_profit': 48.20053979621085, 'position': 1}\n",
      "info {'total_reward': 218.05, 'total_profit': 56.729964875224354, 'position': 1}\n",
      "info {'total_reward': 213.36, 'total_profit': 48.20053979621085, 'position': 1}\n",
      "info {'total_reward': 232.43, 'total_profit': 64.19683231522302, 'position': 1}\n",
      "info {'total_reward': 213.36, 'total_profit': 48.20053979621085, 'position': 1}\n",
      "info {'total_reward': 213.36, 'total_profit': 48.20053979621085, 'position': 1}\n",
      "info {'total_reward': 213.36, 'total_profit': 48.20053979621085, 'position': 1}\n",
      "info {'total_reward': 208.04000000000002, 'total_profit': 41.51129120679414, 'position': 1}\n",
      "info {'total_reward': 220.29000000000002, 'total_profit': 59.21724460355676, 'position': 1}\n",
      "info {'total_reward': 213.36, 'total_profit': 48.20053979621085, 'position': 1}\n",
      "info {'total_reward': 213.36, 'total_profit': 48.20053979621085, 'position': 1}\n",
      "info {'total_reward': 213.36, 'total_profit': 48.20053979621085, 'position': 1}\n",
      "info {'total_reward': 213.36, 'total_profit': 48.20053979621085, 'position': 1}\n",
      "info {'total_reward': 213.36, 'total_profit': 48.20053979621085, 'position': 1}\n",
      "info {'total_reward': 213.36, 'total_profit': 48.20053979621085, 'position': 1}\n",
      "info {'total_reward': 231.32000000000002, 'total_profit': 67.00078771788652, 'position': 1}\n",
      "info {'total_reward': 208.04000000000002, 'total_profit': 41.51129120679414, 'position': 1}\n",
      "info {'total_reward': 227.11, 'total_profit': 55.287625658508645, 'position': 1}\n",
      "info {'total_reward': 220.29000000000002, 'total_profit': 59.21724460355676, 'position': 1}\n",
      "info {'total_reward': 213.36, 'total_profit': 48.20053979621085, 'position': 1}\n",
      "info {'total_reward': 232.43, 'total_profit': 64.19683231522302, 'position': 1}\n",
      "info {'total_reward': 213.36, 'total_profit': 48.20053979621085, 'position': 1}\n",
      "info {'total_reward': 213.36, 'total_profit': 48.20053979621085, 'position': 1}\n"
     ]
    },
    {
     "data": {
      "image/png": "[encoded data removed]",
      "text/plain": [
       "<Figure size 640x480 with 1 Axes>"
      ]
     },
     "metadata": {},
     "output_type": "display_data"
    },
    {
     "name": "stdout",
     "output_type": "stream",
     "text": [
      "Average profit: 52.97426631742232\n",
      "Max profit: 129.91524899049796\n",
      "Min profit: 18.713423445633104\n",
      "Variation in profits: 12.574279992617887\n"
     ]
    }
   ],
   "source": [
    "RL_profits = []\n",
    "for _ in range(100):\n",
    "    env = MyCustomEnv(df=df, window_size=12, frame_bound=(start,end))\n",
    "    obs = env.reset()\n",
    "    while True: \n",
    "        obs = obs[np.newaxis, ...]\n",
    "        action, _states = model.predict(obs)\n",
    "        obs, rewards, done, info = env.step(action)\n",
    "        if done:\n",
    "            print(\"info\", info)\n",
    "            break\n",
    "    RL_profits.append(info['total_profit'])\n",
    "\n",
    "# plot profits as a histogram\n",
    "plt.hist(np.array(RL_profits), bins=20)\n",
    "plt.xlabel('total profit')\n",
    "plt.ylabel('number of episodes')\n",
    "plt.title('A2C agent')\n",
    "plt.show()\n",
    "\n",
    "print(\"Average profit:\", np.mean(RL_profits))\n",
    "print(\"Max profit:\", np.max(RL_profits))\n",
    "print(\"Min profit:\", np.min(RL_profits))\n",
    "print(\"Variation in profits:\", np.std(RL_profits))"
   ]
  },
  {
   "cell_type": "code",
   "execution_count": 544,
   "metadata": {},
   "outputs": [
    {
     "data": {
      "image/png": "[encoded data removed]",
      "text/plain": [
       "<Figure size 1500x600 with 1 Axes>"
      ]
     },
     "metadata": {},
     "output_type": "display_data"
    }
   ],
   "source": [
    "plt.figure(figsize=(15,6))\n",
    "plt.cla()\n",
    "env.render_all()\n",
    "plt.show()"
   ]
  },
  {
   "attachments": {},
   "cell_type": "markdown",
   "metadata": {},
   "source": [
    "### 4.2 Random Model"
   ]
  },
  {
   "cell_type": "code",
   "execution_count": 545,
   "metadata": {},
   "outputs": [
    {
     "name": "stdout",
     "output_type": "stream",
     "text": [
      "info {'total_reward': -168.29000000000002, 'total_profit': 0.401014631068544, 'position': 0}\n",
      "info {'total_reward': 53.809999999999995, 'total_profit': 2.5498908313208957, 'position': 1}\n",
      "info {'total_reward': 86.54, 'total_profit': 2.540409482218721, 'position': 0}\n",
      "info {'total_reward': 50.96999999999998, 'total_profit': 1.954908625767858, 'position': 1}\n",
      "info {'total_reward': -76.81000000000003, 'total_profit': 0.8635167774683955, 'position': 0}\n",
      "info {'total_reward': 512.73, 'total_profit': 46.08024493371565, 'position': 0}\n",
      "info {'total_reward': 201.43, 'total_profit': 7.200166781949866, 'position': 0}\n",
      "info {'total_reward': 109.13, 'total_profit': 1.4651849075703407, 'position': 0}\n",
      "info {'total_reward': 90.48000000000002, 'total_profit': 5.2005847969652965, 'position': 1}\n",
      "info {'total_reward': 432.6600000000001, 'total_profit': 33.94189008733288, 'position': 0}\n",
      "info {'total_reward': 416.5699999999999, 'total_profit': 23.168034296582153, 'position': 1}\n",
      "info {'total_reward': 468.11, 'total_profit': 42.49254526813722, 'position': 0}\n",
      "info {'total_reward': 154.32999999999998, 'total_profit': 4.794029210718951, 'position': 0}\n",
      "info {'total_reward': 100.29, 'total_profit': 3.3647732443229663, 'position': 1}\n",
      "info {'total_reward': -197.95, 'total_profit': 0.6109217489382275, 'position': 0}\n",
      "info {'total_reward': 165.52, 'total_profit': 4.302656085601122, 'position': 0}\n",
      "info {'total_reward': 356.78999999999996, 'total_profit': 16.541656470738076, 'position': 0}\n",
      "info {'total_reward': 46.430000000000014, 'total_profit': 2.0646334054980495, 'position': 0}\n",
      "info {'total_reward': 230.81000000000003, 'total_profit': 6.091846238852127, 'position': 0}\n",
      "info {'total_reward': 324.12, 'total_profit': 17.074377363594056, 'position': 0}\n",
      "info {'total_reward': 168.20999999999998, 'total_profit': 3.5559706806478637, 'position': 0}\n",
      "info {'total_reward': 86.35, 'total_profit': 2.128587094394036, 'position': 1}\n",
      "info {'total_reward': 131.38, 'total_profit': 5.339292161455714, 'position': 0}\n",
      "info {'total_reward': 56.609999999999985, 'total_profit': 1.8893510899903132, 'position': 0}\n",
      "info {'total_reward': 16.43999999999999, 'total_profit': 1.3478175684589437, 'position': 0}\n",
      "info {'total_reward': -9.369999999999997, 'total_profit': 1.45628591556359, 'position': 1}\n",
      "info {'total_reward': 161.12, 'total_profit': 9.101203667192744, 'position': 0}\n",
      "info {'total_reward': 308.05, 'total_profit': 9.609831172580025, 'position': 0}\n",
      "info {'total_reward': 245.47000000000006, 'total_profit': 6.916560640506182, 'position': 0}\n",
      "info {'total_reward': -41.83999999999999, 'total_profit': 2.4649419487654867, 'position': 1}\n",
      "info {'total_reward': -193.75999999999996, 'total_profit': 0.45739294336958414, 'position': 1}\n",
      "info {'total_reward': 118.0, 'total_profit': 2.578779983854316, 'position': 0}\n",
      "info {'total_reward': -81.05, 'total_profit': 0.9403573322491872, 'position': 0}\n",
      "info {'total_reward': 205.22000000000003, 'total_profit': 16.36839094779358, 'position': 1}\n",
      "info {'total_reward': 185.42000000000002, 'total_profit': 8.202848607829711, 'position': 0}\n",
      "info {'total_reward': 5.63000000000001, 'total_profit': 1.2085348942445686, 'position': 1}\n",
      "info {'total_reward': -110.04999999999998, 'total_profit': 0.9130937352246973, 'position': 1}\n",
      "info {'total_reward': 46.75, 'total_profit': 2.130469303663935, 'position': 1}\n",
      "info {'total_reward': 156.38, 'total_profit': 3.2262540898398315, 'position': 1}\n",
      "info {'total_reward': -125.9600000000001, 'total_profit': 0.9418053682705998, 'position': 0}\n",
      "info {'total_reward': 80.86000000000001, 'total_profit': 2.6918102482727764, 'position': 0}\n",
      "info {'total_reward': 302.55000000000007, 'total_profit': 11.393649476934101, 'position': 0}\n",
      "info {'total_reward': -20.190000000000012, 'total_profit': 1.7140710080800463, 'position': 1}\n",
      "info {'total_reward': -74.71999999999998, 'total_profit': 1.1701111375466522, 'position': 1}\n",
      "info {'total_reward': -61.76999999999998, 'total_profit': 0.8812540085766831, 'position': 0}\n",
      "info {'total_reward': 48.890000000000015, 'total_profit': 1.881194228675342, 'position': 1}\n",
      "info {'total_reward': 78.61000000000001, 'total_profit': 2.271660643988365, 'position': 1}\n",
      "info {'total_reward': 184.7, 'total_profit': 4.219774795214879, 'position': 0}\n",
      "info {'total_reward': 165.66000000000003, 'total_profit': 3.735773517569715, 'position': 1}\n",
      "info {'total_reward': 210.32, 'total_profit': 14.831925251262264, 'position': 0}\n",
      "info {'total_reward': 277.75, 'total_profit': 20.355258370338284, 'position': 1}\n",
      "info {'total_reward': 237.91, 'total_profit': 5.798570001735907, 'position': 0}\n",
      "info {'total_reward': 79.03999999999999, 'total_profit': 2.65557776273896, 'position': 0}\n",
      "info {'total_reward': -198.07999999999998, 'total_profit': 0.5949071757926524, 'position': 1}\n",
      "info {'total_reward': 361.2900000000001, 'total_profit': 14.181836631852832, 'position': 0}\n",
      "info {'total_reward': 113.61000000000001, 'total_profit': 3.54760335071572, 'position': 0}\n",
      "info {'total_reward': 186.73000000000005, 'total_profit': 8.893517159665471, 'position': 1}\n",
      "info {'total_reward': 356.0400000000001, 'total_profit': 36.58045768313073, 'position': 0}\n",
      "info {'total_reward': 263.03, 'total_profit': 4.132281195708511, 'position': 0}\n",
      "info {'total_reward': 99.1, 'total_profit': 2.314003173909078, 'position': 1}\n",
      "info {'total_reward': -42.21, 'total_profit': 1.286383589927849, 'position': 1}\n",
      "info {'total_reward': 193.73, 'total_profit': 4.791729475676459, 'position': 1}\n",
      "info {'total_reward': -140.5, 'total_profit': 0.58340625630496, 'position': 1}\n",
      "info {'total_reward': 26.959999999999994, 'total_profit': 1.580366829481217, 'position': 0}\n",
      "info {'total_reward': -43.360000000000014, 'total_profit': 0.6603112315607961, 'position': 1}\n",
      "info {'total_reward': -132.75000000000006, 'total_profit': 0.5802081230526583, 'position': 0}\n",
      "info {'total_reward': 285.09000000000003, 'total_profit': 9.807861807170024, 'position': 1}\n",
      "info {'total_reward': -80.92000000000007, 'total_profit': 0.884829255748451, 'position': 0}\n",
      "info {'total_reward': 26.540000000000006, 'total_profit': 1.9754557211012054, 'position': 0}\n",
      "info {'total_reward': 64.81, 'total_profit': 1.9304270050442873, 'position': 0}\n",
      "info {'total_reward': 57.93000000000001, 'total_profit': 2.271705531809336, 'position': 1}\n",
      "info {'total_reward': 35.83999999999996, 'total_profit': 4.137647921909115, 'position': 1}\n",
      "info {'total_reward': 394.03, 'total_profit': 19.138120919199768, 'position': 1}\n",
      "info {'total_reward': 88.03999999999999, 'total_profit': 1.3079266787248172, 'position': 0}\n",
      "info {'total_reward': -74.98, 'total_profit': 1.0583342197552084, 'position': 0}\n",
      "info {'total_reward': 12.180000000000035, 'total_profit': 1.068431425243563, 'position': 0}\n",
      "info {'total_reward': 47.46999999999999, 'total_profit': 2.6452084084764054, 'position': 1}\n",
      "info {'total_reward': 247.43, 'total_profit': 11.281337863279086, 'position': 1}\n",
      "info {'total_reward': 64.64, 'total_profit': 1.7589774596332435, 'position': 1}\n",
      "info {'total_reward': -194.41000000000003, 'total_profit': 0.7686080587376736, 'position': 0}\n",
      "info {'total_reward': -73.78000000000002, 'total_profit': 0.9014365824844476, 'position': 0}\n",
      "info {'total_reward': 240.54000000000002, 'total_profit': 9.559955795189408, 'position': 1}\n",
      "info {'total_reward': -60.48000000000003, 'total_profit': 1.0607593492957412, 'position': 1}\n",
      "info {'total_reward': 98.73, 'total_profit': 2.1256284590336976, 'position': 1}\n",
      "info {'total_reward': 60.159999999999975, 'total_profit': 1.7969447085963282, 'position': 1}\n",
      "info {'total_reward': 97.4, 'total_profit': 2.1876215948002247, 'position': 0}\n",
      "info {'total_reward': -201.45, 'total_profit': 0.3907935208755563, 'position': 1}\n",
      "info {'total_reward': 142.2, 'total_profit': 5.613956967229846, 'position': 0}\n",
      "info {'total_reward': 51.34000000000002, 'total_profit': 2.7981416145029634, 'position': 1}\n",
      "info {'total_reward': -156.16000000000003, 'total_profit': 1.0085224037664435, 'position': 1}\n",
      "info {'total_reward': 248.50999999999996, 'total_profit': 13.035196685280301, 'position': 0}\n",
      "info {'total_reward': -106.9, 'total_profit': 0.757741509792481, 'position': 1}\n",
      "info {'total_reward': 168.68999999999997, 'total_profit': 16.291409943239884, 'position': 1}\n",
      "info {'total_reward': -31.419999999999987, 'total_profit': 1.5773556571845426, 'position': 0}\n",
      "info {'total_reward': 366.82000000000005, 'total_profit': 18.87705834438438, 'position': 0}\n",
      "info {'total_reward': 223.11999999999998, 'total_profit': 14.946919510032592, 'position': 1}\n",
      "info {'total_reward': 57.83000000000001, 'total_profit': 1.2792976466462056, 'position': 0}\n",
      "info {'total_reward': 297.57000000000005, 'total_profit': 22.958379560050556, 'position': 1}\n",
      "info {'total_reward': -283.6400000000001, 'total_profit': 0.2603919053988312, 'position': 1}\n",
      "info {'total_reward': -82.30000000000003, 'total_profit': 0.9906119434316651, 'position': 0}\n"
     ]
    },
    {
     "data": {
      "image/png": "[encoded data removed]",
      "text/plain": [
       "<Figure size 640x480 with 1 Axes>"
      ]
     },
     "metadata": {},
     "output_type": "display_data"
    },
    {
     "name": "stdout",
     "output_type": "stream",
     "text": [
      "Average profit: 6.352616926390174\n",
      "Max profit: 46.08024493371565\n",
      "Min profit: 0.2603919053988312\n",
      "Variation in profits: 8.861701831106489\n"
     ]
    }
   ],
   "source": [
    "random_profits = []\n",
    "for _ in range(100):\n",
    "    env1=MyCustomEnv(df=df, window_size=12, frame_bound=(start,end))\n",
    "    obs = env1.reset()\n",
    "    while True:\n",
    "        action = env1.action_space.sample()\n",
    "        obs, rewards, done, info = env1.step(action)\n",
    "        if done:\n",
    "            print(\"info\", info)\n",
    "            break\n",
    "    random_profits.append(info['total_profit'])\n",
    "\n",
    "# plot profits as a histogram\n",
    "plt.hist(np.array(random_profits), bins=20)\n",
    "plt.xlabel('total profit')\n",
    "plt.ylabel('number of episodes')\n",
    "plt.title('Random agent')\n",
    "plt.show()\n",
    "\n",
    "print(\"Average profit:\", np.mean(random_profits))\n",
    "print(\"Max profit:\", np.max(random_profits))\n",
    "print(\"Min profit:\", np.min(random_profits))\n",
    "print(\"Variation in profits:\", np.std(random_profits))"
   ]
  },
  {
   "cell_type": "code",
   "execution_count": 546,
   "metadata": {},
   "outputs": [
    {
     "data": {
      "image/png": "[encoded data removed]",
      "text/plain": [
       "<Figure size 1500x600 with 1 Axes>"
      ]
     },
     "metadata": {},
     "output_type": "display_data"
    }
   ],
   "source": [
    "plt.figure(figsize=(15,6))\n",
    "plt.cla()\n",
    "env1.render_all()\n",
    "plt.show()"
   ]
  },
  {
   "attachments": {},
   "cell_type": "markdown",
   "metadata": {},
   "source": [
    "### 4.3 Maximum possible profit"
   ]
  },
  {
   "cell_type": "code",
   "execution_count": 547,
   "metadata": {},
   "outputs": [
    {
     "data": {
      "text/plain": [
       "442.9502654270426"
      ]
     },
     "execution_count": 547,
     "metadata": {},
     "output_type": "execute_result"
    }
   ],
   "source": [
    "\n",
    "env1.max_possible_profit()"
   ]
  }
 ],
 "metadata": {
  "kernelspec": {
   "display_name": "Python 3",
   "language": "python",
   "name": "python3"
  },
  "language_info": {
   "codemirror_mode": {
    "name": "ipython",
    "version": 3
   },
   "file_extension": ".py",
   "mimetype": "text/x-python",
   "name": "python",
   "nbconvert_exporter": "python",
   "pygments_lexer": "ipython3",
   "version": "3.7.16"
  }
 },
 "nbformat": 4,
 "nbformat_minor": 2
}
